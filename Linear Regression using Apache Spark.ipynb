{
 "cells": [
  {
   "cell_type": "code",
   "execution_count": 5,
   "id": "7b2f0747",
   "metadata": {},
   "outputs": [],
   "source": [
    "# !pip install pyspark"
   ]
  },
  {
   "cell_type": "code",
   "execution_count": 8,
   "id": "6b832472",
   "metadata": {},
   "outputs": [],
   "source": [
    "from pyspark.sql import SparkSession\n",
    "spark = SparkSession.builder.appName('Customers').getOrCreate()"
   ]
  },
  {
   "cell_type": "code",
   "execution_count": 11,
   "id": "25ee2689",
   "metadata": {},
   "outputs": [],
   "source": [
    "from pyspark.ml.regression import LinearRegression"
   ]
  },
  {
   "cell_type": "code",
   "execution_count": 12,
   "id": "d2d9e6ad",
   "metadata": {},
   "outputs": [],
   "source": [
    "dataset = spark.read.csv(\"Ecommerce Customers.csv\", inferSchema=True, header=True)"
   ]
  },
  {
   "cell_type": "code",
   "execution_count": 10,
   "id": "cf79ab29",
   "metadata": {},
   "outputs": [
    {
     "name": "stdout",
     "output_type": "stream",
     "text": [
      "+--------------------+--------------------+------------------+-------------------+------------------+------------------+--------------------+-------------------+\n",
      "|               Email|             Address|            Avatar|Avg. Session Length|       Time on App|   Time on Website|Length of Membership|Yearly Amount Spent|\n",
      "+--------------------+--------------------+------------------+-------------------+------------------+------------------+--------------------+-------------------+\n",
      "|mstephenson@ferna...|    835 Frank Tunnel|              null|               null|              null|              null|                null|               null|\n",
      "|         Wrightmouth|      MI 82180-9605\"|            Violet|  34.49726772511229|12.655651149166752| 39.57766801952616|   4.082620632952961|  587.9510539684005|\n",
      "|   hduke@hotmail.com|  4547 Archer Common|              null|               null|              null|              null|                null|               null|\n",
      "|         Diazchester|      CA 06566-8576\"|         DarkGreen| 31.926272026360156|11.109460728682564|37.268958868297744|    2.66403418213262|  392.2049334443264|\n",
      "|    pallen@yahoo.com|24645 Valerie Uni...|              null|               null|              null|              null|                null|               null|\n",
      "|         Cobbborough|      DC 99414-7564\"|            Bisque| 33.000914755642675|11.330278057777512| 37.11059744212085|   4.104543202376424| 487.54750486747207|\n",
      "|riverarebecca@gma...|1414 David Throug...|              null|               null|              null|              null|                null|               null|\n",
      "|          Port Jason|      OH 22070-1220\"|       SaddleBrown|  34.30555662975554|13.717513665142508| 36.72128267790313|  3.1201787827480914|  581.8523440352178|\n",
      "|mstephens@davidso...|14023 Rodriguez P...|              null|               null|              null|              null|                null|               null|\n",
      "|     Port Jacobville|      PR 37242-1057\"|  MediumAquaMarine|  33.33067252364639|12.795188551078114| 37.53665330059473|   4.446308318351435|  599.4060920457634|\n",
      "|alvareznancy@luca...|645 Martha Park A...|              null|               null|              null|              null|                null|               null|\n",
      "|      Jeffreychester|      MN 67218-7250\"|       FloralWhite|  33.87103787934198|12.026925339755058| 34.47687762925054|   5.493507201364199|   637.102447915074|\n",
      "|katherine20@yahoo...|68388 Reyes Light...|              null|               null|              null|              null|                null|               null|\n",
      "|          Josephbury|      WV 92213-0247\"|     DarkSlateBlue|  32.02159550138701|11.366348309710526|36.683776152869605|  4.6850172465709115|  521.5721747578274|\n",
      "|  awatkins@yahoo.com|  Unit 6538 Box 8980|              null|               null|              null|              null|                null|               null|\n",
      "|  DPO AP 09026-4941\"|                Aqua|32.739142938380326|  12.35195897300293|37.373358858547554|4.4342734348999375|   549.9041461052942|               null|\n",
      "|vchurch@walter-ma...|         860 Lee Key|              null|               null|              null|              null|                null|               null|\n",
      "|          West Debra|      SD 97450-0495\"|            Salmon|  33.98777289568564|13.386235275676434|37.534497341555735|  3.2734335777477144|  570.2004089636195|\n",
      "|    bonnie69@lin.biz|  PSC 2734, Box 5255|              null|               null|              null|              null|                null|               null|\n",
      "|  APO AA 98456-7482\"|               Brown|31.936548618448914| 11.814128294972196| 37.14516822352819| 3.202806071553459|  427.19938489532814|               null|\n",
      "+--------------------+--------------------+------------------+-------------------+------------------+------------------+--------------------+-------------------+\n",
      "only showing top 20 rows\n",
      "\n"
     ]
    }
   ],
   "source": [
    "dataset.show()"
   ]
  },
  {
   "cell_type": "code",
   "execution_count": 13,
   "id": "a53aaef9",
   "metadata": {},
   "outputs": [
    {
     "data": {
      "text/plain": [
       "DataFrame[Email: string, Address: string, Avatar: string, Avg. Session Length: double, Time on App: double, Time on Website: double, Length of Membership: double, Yearly Amount Spent: double]"
      ]
     },
     "execution_count": 13,
     "metadata": {},
     "output_type": "execute_result"
    }
   ],
   "source": [
    "dataset"
   ]
  },
  {
   "cell_type": "code",
   "execution_count": 15,
   "id": "1a6a6d00",
   "metadata": {},
   "outputs": [
    {
     "name": "stdout",
     "output_type": "stream",
     "text": [
      "root\n",
      " |-- Email: string (nullable = true)\n",
      " |-- Address: string (nullable = true)\n",
      " |-- Avatar: string (nullable = true)\n",
      " |-- Avg. Session Length: double (nullable = true)\n",
      " |-- Time on App: double (nullable = true)\n",
      " |-- Time on Website: double (nullable = true)\n",
      " |-- Length of Membership: double (nullable = true)\n",
      " |-- Yearly Amount Spent: double (nullable = true)\n",
      "\n"
     ]
    }
   ],
   "source": [
    "dataset.printSchema()"
   ]
  },
  {
   "cell_type": "code",
   "execution_count": 22,
   "id": "433f6a41",
   "metadata": {},
   "outputs": [],
   "source": [
    "updated_df = dataset.withColumnRenamed(\"Avg. Session Length\", \"Avg Session Length\")"
   ]
  },
  {
   "cell_type": "code",
   "execution_count": 24,
   "id": "30b85e0b",
   "metadata": {},
   "outputs": [
    {
     "name": "stdout",
     "output_type": "stream",
     "text": [
      "root\n",
      " |-- Email: string (nullable = true)\n",
      " |-- Address: string (nullable = true)\n",
      " |-- Avatar: string (nullable = true)\n",
      " |-- Avg Session Length: double (nullable = true)\n",
      " |-- Time on App: double (nullable = true)\n",
      " |-- Time on Website: double (nullable = true)\n",
      " |-- Length of Membership: double (nullable = true)\n",
      " |-- Yearly Amount Spent: double (nullable = true)\n",
      "\n"
     ]
    }
   ],
   "source": [
    "updated_df.printSchema()"
   ]
  },
  {
   "cell_type": "code",
   "execution_count": 16,
   "id": "af1159e0",
   "metadata": {},
   "outputs": [],
   "source": [
    "from pyspark.ml.linalg import Vector\n",
    "from pyspark.ml.feature import VectorAssembler"
   ]
  },
  {
   "cell_type": "code",
   "execution_count": 29,
   "id": "c28f3149",
   "metadata": {},
   "outputs": [],
   "source": [
    "featureassembler = VectorAssembler(inputCols=['Avg Session Length','Time on App','Time on Website','Length of Membership'],outputCol=\"Independent Feature\",handleInvalid=\"skip\")"
   ]
  },
  {
   "cell_type": "code",
   "execution_count": 30,
   "id": "0704ad09",
   "metadata": {},
   "outputs": [],
   "source": [
    "output = featureassembler.transform(updated_df)"
   ]
  },
  {
   "cell_type": "code",
   "execution_count": 31,
   "id": "1e4ddd75",
   "metadata": {},
   "outputs": [
    {
     "data": {
      "text/plain": [
       "DataFrame[Email: string, Address: string, Avatar: string, Avg Session Length: double, Time on App: double, Time on Website: double, Length of Membership: double, Yearly Amount Spent: double, Independent Feature: vector]"
      ]
     },
     "execution_count": 31,
     "metadata": {},
     "output_type": "execute_result"
    }
   ],
   "source": [
    "output"
   ]
  },
  {
   "cell_type": "code",
   "execution_count": 32,
   "id": "82597d2c",
   "metadata": {},
   "outputs": [
    {
     "name": "stdout",
     "output_type": "stream",
     "text": [
      "+------------------+---------------+------------------+------------------+------------------+------------------+--------------------+-------------------+--------------------+\n",
      "|             Email|        Address|            Avatar|Avg Session Length|       Time on App|   Time on Website|Length of Membership|Yearly Amount Spent| Independent Feature|\n",
      "+------------------+---------------+------------------+------------------+------------------+------------------+--------------------+-------------------+--------------------+\n",
      "|       Wrightmouth| MI 82180-9605\"|            Violet| 34.49726772511229|12.655651149166752| 39.57766801952616|   4.082620632952961|  587.9510539684005|[34.4972677251122...|\n",
      "|       Diazchester| CA 06566-8576\"|         DarkGreen|31.926272026360156|11.109460728682564|37.268958868297744|    2.66403418213262|  392.2049334443264|[31.9262720263601...|\n",
      "|       Cobbborough| DC 99414-7564\"|            Bisque|33.000914755642675|11.330278057777512| 37.11059744212085|   4.104543202376424| 487.54750486747207|[33.0009147556426...|\n",
      "|        Port Jason| OH 22070-1220\"|       SaddleBrown| 34.30555662975554|13.717513665142508| 36.72128267790313|  3.1201787827480914|  581.8523440352178|[34.3055566297555...|\n",
      "|   Port Jacobville| PR 37242-1057\"|  MediumAquaMarine| 33.33067252364639|12.795188551078114| 37.53665330059473|   4.446308318351435|  599.4060920457634|[33.3306725236463...|\n",
      "|    Jeffreychester| MN 67218-7250\"|       FloralWhite| 33.87103787934198|12.026925339755058| 34.47687762925054|   5.493507201364199|   637.102447915074|[33.8710378793419...|\n",
      "|        Josephbury| WV 92213-0247\"|     DarkSlateBlue| 32.02159550138701|11.366348309710526|36.683776152869605|  4.6850172465709115|  521.5721747578274|[32.0215955013870...|\n",
      "|DPO AP 09026-4941\"|           Aqua|32.739142938380326| 12.35195897300293|37.373358858547554|4.4342734348999375|   549.9041461052942|               null|[12.3519589730029...|\n",
      "|        West Debra| SD 97450-0495\"|            Salmon| 33.98777289568564|13.386235275676434|37.534497341555735|  3.2734335777477144|  570.2004089636195|[33.9877728956856...|\n",
      "|APO AA 98456-7482\"|          Brown|31.936548618448914|11.814128294972196| 37.14516822352819| 3.202806071553459|  427.19938489532814|               null|[11.8141282949721...|\n",
      "|    Alexandriaport| WY 28244-9149\"|            Tomato| 33.99257277495374|13.338975447662111| 37.22580613162114|  2.4826077705105956|  492.6060127179966|[33.9925727749537...|\n",
      "|DPO AA 07580-2652\"|         Tomato| 33.87936082480498|11.584782999535266|37.087926070983805|  3.71320920294043|   522.3374046069357|               null|[11.5847829995352...|\n",
      "|    Lake Shanestad| MO 75696-5051\"|         RoyalBlue|29.532428967057946|10.961298400154098| 37.42021557502538|   4.046423164299585| 408.64035107262754|[29.5324289670579...|\n",
      "|New Stephaniehaven|      MP 42268\"|            Bisque| 33.19033404372265|12.959226091609382|36.144666700041924|  3.9185418391589986|  573.4158673313865|[33.1903340437226...|\n",
      "|      Samanthaland|      ND 44358\"|          DarkBlue| 32.38797585315387|13.148725692056516| 36.61995708279922|   2.494543646659249| 470.45273330095546|[32.3879758531538...|\n",
      "|       Phillipstad| OH 35641-3238\"|              Peru|30.737720372628186|12.636606052000129|36.213763093698624|   3.357846842326294|  461.7807421962299|[30.7377203726281...|\n",
      "|       Johnsonfurt|      GA 15169\"|        PowderBlue| 32.12538689728784|11.733861690857392|  34.8940927514398|  3.1361327164897803| 457.84769594494855|[32.1253868972878...|\n",
      "|         Wilsonton|      PW 88606\"|         OliveDrab| 32.33889932306719|  12.0131946940144| 38.38513659413844|   2.420806160901484|  407.7045475495441|[32.3388993230671...|\n",
      "|    Port Dannytown|      PW 63227\"|              Cyan|32.187812045932155|14.715387544156501|38.244114594343515|  1.5165755808319439| 452.31567548003545|[32.1878120459321...|\n",
      "|    North Johnview|      MT 57912\"|     LightSeaGreen| 32.61785606282345|13.989592555825254|37.190503800397956|   4.064548550437977|   605.061038804892|[32.6178560628234...|\n",
      "+------------------+---------------+------------------+------------------+------------------+------------------+--------------------+-------------------+--------------------+\n",
      "only showing top 20 rows\n",
      "\n"
     ]
    }
   ],
   "source": [
    "output.show()"
   ]
  },
  {
   "cell_type": "code",
   "execution_count": 35,
   "id": "e5366b26",
   "metadata": {},
   "outputs": [
    {
     "name": "stdout",
     "output_type": "stream",
     "text": [
      "+--------------------+\n",
      "| Independent Feature|\n",
      "+--------------------+\n",
      "|[34.4972677251122...|\n",
      "|[31.9262720263601...|\n",
      "|[33.0009147556426...|\n",
      "|[34.3055566297555...|\n",
      "|[33.3306725236463...|\n",
      "|[33.8710378793419...|\n",
      "|[32.0215955013870...|\n",
      "|[12.3519589730029...|\n",
      "|[33.9877728956856...|\n",
      "|[11.8141282949721...|\n",
      "|[33.9925727749537...|\n",
      "|[11.5847829995352...|\n",
      "|[29.5324289670579...|\n",
      "|[33.1903340437226...|\n",
      "|[32.3879758531538...|\n",
      "|[30.7377203726281...|\n",
      "|[32.1253868972878...|\n",
      "|[32.3388993230671...|\n",
      "|[32.1878120459321...|\n",
      "|[32.6178560628234...|\n",
      "+--------------------+\n",
      "only showing top 20 rows\n",
      "\n"
     ]
    }
   ],
   "source": [
    "output.select(\"Independent Feature\").show()"
   ]
  },
  {
   "cell_type": "code",
   "execution_count": 36,
   "id": "54048d69",
   "metadata": {},
   "outputs": [
    {
     "data": {
      "text/plain": [
       "['Email',\n",
       " 'Address',\n",
       " 'Avatar',\n",
       " 'Avg Session Length',\n",
       " 'Time on App',\n",
       " 'Time on Website',\n",
       " 'Length of Membership',\n",
       " 'Yearly Amount Spent',\n",
       " 'Independent Feature']"
      ]
     },
     "execution_count": 36,
     "metadata": {},
     "output_type": "execute_result"
    }
   ],
   "source": [
    "output.columns"
   ]
  },
  {
   "cell_type": "code",
   "execution_count": 37,
   "id": "0c9376fe",
   "metadata": {},
   "outputs": [],
   "source": [
    "finalized_data = output.select(\"Independent Feature\", \"Yearly Amount Spent\")"
   ]
  },
  {
   "cell_type": "code",
   "execution_count": 39,
   "id": "8706cfa5",
   "metadata": {},
   "outputs": [
    {
     "name": "stdout",
     "output_type": "stream",
     "text": [
      "+--------------------+-------------------+\n",
      "| Independent Feature|Yearly Amount Spent|\n",
      "+--------------------+-------------------+\n",
      "|[34.4972677251122...|  587.9510539684005|\n",
      "|[31.9262720263601...|  392.2049334443264|\n",
      "|[33.0009147556426...| 487.54750486747207|\n",
      "|[34.3055566297555...|  581.8523440352178|\n",
      "|[33.3306725236463...|  599.4060920457634|\n",
      "|[33.8710378793419...|   637.102447915074|\n",
      "|[32.0215955013870...|  521.5721747578274|\n",
      "|[12.3519589730029...|               null|\n",
      "|[33.9877728956856...|  570.2004089636195|\n",
      "|[11.8141282949721...|               null|\n",
      "|[33.9925727749537...|  492.6060127179966|\n",
      "|[11.5847829995352...|               null|\n",
      "|[29.5324289670579...| 408.64035107262754|\n",
      "|[33.1903340437226...|  573.4158673313865|\n",
      "|[32.3879758531538...| 470.45273330095546|\n",
      "|[30.7377203726281...|  461.7807421962299|\n",
      "|[32.1253868972878...| 457.84769594494855|\n",
      "|[32.3388993230671...|  407.7045475495441|\n",
      "|[32.1878120459321...| 452.31567548003545|\n",
      "|[32.6178560628234...|   605.061038804892|\n",
      "+--------------------+-------------------+\n",
      "only showing top 20 rows\n",
      "\n"
     ]
    }
   ],
   "source": [
    "finalized_data.show()"
   ]
  },
  {
   "cell_type": "code",
   "execution_count": 44,
   "id": "6bee7eb3",
   "metadata": {},
   "outputs": [],
   "source": [
    "finalized_data = finalized_data.na.drop()"
   ]
  },
  {
   "cell_type": "code",
   "execution_count": 45,
   "id": "5eec433e",
   "metadata": {},
   "outputs": [
    {
     "name": "stdout",
     "output_type": "stream",
     "text": [
      "+--------------------+-------------------+\n",
      "| Independent Feature|Yearly Amount Spent|\n",
      "+--------------------+-------------------+\n",
      "|[34.4972677251122...|  587.9510539684005|\n",
      "|[31.9262720263601...|  392.2049334443264|\n",
      "|[33.0009147556426...| 487.54750486747207|\n",
      "|[34.3055566297555...|  581.8523440352178|\n",
      "|[33.3306725236463...|  599.4060920457634|\n",
      "|[33.8710378793419...|   637.102447915074|\n",
      "|[32.0215955013870...|  521.5721747578274|\n",
      "|[33.9877728956856...|  570.2004089636195|\n",
      "|[33.9925727749537...|  492.6060127179966|\n",
      "|[29.5324289670579...| 408.64035107262754|\n",
      "|[33.1903340437226...|  573.4158673313865|\n",
      "|[32.3879758531538...| 470.45273330095546|\n",
      "|[30.7377203726281...|  461.7807421962299|\n",
      "|[32.1253868972878...| 457.84769594494855|\n",
      "|[32.3388993230671...|  407.7045475495441|\n",
      "|[32.1878120459321...| 452.31567548003545|\n",
      "|[32.6178560628234...|   605.061038804892|\n",
      "|[32.9127851111597...|  534.7057438060227|\n",
      "|[34.5075509985266...|  700.9170916173961|\n",
      "|[33.0293319535068...| 423.17999168059777|\n",
      "+--------------------+-------------------+\n",
      "only showing top 20 rows\n",
      "\n"
     ]
    }
   ],
   "source": [
    "finalized_data.show()"
   ]
  },
  {
   "cell_type": "code",
   "execution_count": 46,
   "id": "a9c9955b",
   "metadata": {},
   "outputs": [],
   "source": [
    "train_data, test_data = finalized_data.randomSplit([0.75, 0.25])"
   ]
  },
  {
   "cell_type": "code",
   "execution_count": 47,
   "id": "af5144c8",
   "metadata": {},
   "outputs": [
    {
     "name": "stderr",
     "output_type": "stream",
     "text": [
      "23/09/07 12:55:35 WARN Instrumentation: [892954a7] regParam is zero, which might cause numerical instability and overfitting.\n"
     ]
    }
   ],
   "source": [
    "regressor = LinearRegression(featuresCol=\"Independent Feature\", labelCol=\"Yearly Amount Spent\")\n",
    "regressor = regressor.fit(train_data)"
   ]
  },
  {
   "cell_type": "code",
   "execution_count": 48,
   "id": "15164607",
   "metadata": {},
   "outputs": [
    {
     "data": {
      "text/plain": [
       "DenseVector([25.6838, 38.3234, 1.0659, 61.666])"
      ]
     },
     "execution_count": 48,
     "metadata": {},
     "output_type": "execute_result"
    }
   ],
   "source": [
    "regressor.coefficients"
   ]
  },
  {
   "cell_type": "code",
   "execution_count": 49,
   "id": "1c97fde5",
   "metadata": {},
   "outputs": [
    {
     "data": {
      "text/plain": [
       "-1068.8542932158657"
      ]
     },
     "execution_count": 49,
     "metadata": {},
     "output_type": "execute_result"
    }
   ],
   "source": [
    "regressor.intercept"
   ]
  },
  {
   "cell_type": "code",
   "execution_count": 51,
   "id": "04015c0a",
   "metadata": {},
   "outputs": [],
   "source": [
    "pred_results = regressor.evaluate(test_data)"
   ]
  },
  {
   "cell_type": "code",
   "execution_count": 53,
   "id": "67491459",
   "metadata": {},
   "outputs": [
    {
     "name": "stdout",
     "output_type": "stream",
     "text": [
      "+--------------------+-------------------+------------------+\n",
      "| Independent Feature|Yearly Amount Spent|        prediction|\n",
      "+--------------------+-------------------+------------------+\n",
      "|[30.3931845423455...|  319.9288698031936|331.30075087075807|\n",
      "|[30.7377203726281...|  461.7807421962299| 450.5526861319904|\n",
      "|[31.0662181616375...|  448.9332932076743| 461.9158875907392|\n",
      "|[31.4474464941278...|   418.602742095224|  427.876485627414|\n",
      "|[31.5261978982398...| 409.09452619233787| 419.1292860310584|\n",
      "|[31.6548096756927...| 475.26342372754846| 468.8294337384766|\n",
      "|[31.6739155032749...|  475.7250679098812| 502.2497869070328|\n",
      "|[31.7216523605090...|  347.7769266318726| 349.4819196337919|\n",
      "|[31.8093003166791...|  536.7718993628412| 547.8969955346695|\n",
      "|[31.8512531286083...| 472.99224666679834| 464.0168625036497|\n",
      "|[31.8648325480987...|  439.8912804768136|449.66274635166656|\n",
      "|[31.8745516945853...|  392.2852442462675| 398.8143845454649|\n",
      "|[31.9673209478824...| 445.74984123965226| 451.8673299654947|\n",
      "|[32.0215955013870...|  521.5721747578274| 517.1892229100627|\n",
      "|[32.1338624098483...|  443.4418600624623|449.87427579367295|\n",
      "|[32.1898447292735...|  533.3965537868428|  531.510481556455|\n",
      "|[32.1977237974218...|   514.088957746572|  509.116511946052|\n",
      "|[32.2007986439653...|  478.8853913201482| 473.9482191449524|\n",
      "|[32.2155274199891...| 438.41774201146853|445.62695735155467|\n",
      "|[32.2599732655570...|  571.2160048349454| 572.7827627993131|\n",
      "+--------------------+-------------------+------------------+\n",
      "only showing top 20 rows\n",
      "\n"
     ]
    }
   ],
   "source": [
    "pred_results.predictions.show()"
   ]
  },
  {
   "cell_type": "code",
   "execution_count": 57,
   "id": "c4d6d88f",
   "metadata": {},
   "outputs": [],
   "source": [
    "Predicted_results = pred_results.predictions"
   ]
  },
  {
   "cell_type": "code",
   "execution_count": 59,
   "id": "f1d6d366",
   "metadata": {},
   "outputs": [
    {
     "name": "stdout",
     "output_type": "stream",
     "text": [
      "+--------------------+-------------------+------------------+\n",
      "| Independent Feature|Yearly Amount Spent|        prediction|\n",
      "+--------------------+-------------------+------------------+\n",
      "|[30.3931845423455...|  319.9288698031936|331.30075087075807|\n",
      "|[30.7377203726281...|  461.7807421962299| 450.5526861319904|\n",
      "|[31.0662181616375...|  448.9332932076743| 461.9158875907392|\n",
      "|[31.4474464941278...|   418.602742095224|  427.876485627414|\n",
      "|[31.5261978982398...| 409.09452619233787| 419.1292860310584|\n",
      "|[31.6548096756927...| 475.26342372754846| 468.8294337384766|\n",
      "|[31.6739155032749...|  475.7250679098812| 502.2497869070328|\n",
      "|[31.7216523605090...|  347.7769266318726| 349.4819196337919|\n",
      "|[31.8093003166791...|  536.7718993628412| 547.8969955346695|\n",
      "|[31.8512531286083...| 472.99224666679834| 464.0168625036497|\n",
      "|[31.8648325480987...|  439.8912804768136|449.66274635166656|\n",
      "|[31.8745516945853...|  392.2852442462675| 398.8143845454649|\n",
      "|[31.9673209478824...| 445.74984123965226| 451.8673299654947|\n",
      "|[32.0215955013870...|  521.5721747578274| 517.1892229100627|\n",
      "|[32.1338624098483...|  443.4418600624623|449.87427579367295|\n",
      "|[32.1898447292735...|  533.3965537868428|  531.510481556455|\n",
      "|[32.1977237974218...|   514.088957746572|  509.116511946052|\n",
      "|[32.2007986439653...|  478.8853913201482| 473.9482191449524|\n",
      "|[32.2155274199891...| 438.41774201146853|445.62695735155467|\n",
      "|[32.2599732655570...|  571.2160048349454| 572.7827627993131|\n",
      "+--------------------+-------------------+------------------+\n",
      "only showing top 20 rows\n",
      "\n"
     ]
    }
   ],
   "source": [
    "Predicted_results.show()"
   ]
  },
  {
   "cell_type": "code",
   "execution_count": 60,
   "id": "4b705fd5",
   "metadata": {},
   "outputs": [
    {
     "name": "stderr",
     "output_type": "stream",
     "text": [
      "\r",
      "[Stage 20:>                                                         (0 + 1) / 1]\r",
      "\r",
      "                                                                                \r"
     ]
    },
    {
     "data": {
      "image/png": "[encoded data removed]",
      "text/plain": [
       "<Figure size 576x432 with 1 Axes>"
      ]
     },
     "metadata": {
      "needs_background": "light"
     },
     "output_type": "display_data"
    }
   ],
   "source": [
    "import matplotlib.pyplot as plt\n",
    "\n",
    "# Extract the actual Yearly Amount Spent and predicted values from Predicted_results\n",
    "actual_values = Predicted_results.select(\"Yearly Amount Spent\").rdd.flatMap(lambda x: x).collect()\n",
    "predicted_values = Predicted_results.select(\"prediction\").rdd.flatMap(lambda x: x).collect()\n",
    "\n",
    "# Create a scatter plot\n",
    "plt.figure(figsize=(8, 6))\n",
    "plt.scatter(actual_values, predicted_values, color='blue', alpha=0.5)\n",
    "plt.xlabel('Actual Yearly Amount Spent')\n",
    "plt.ylabel('Predicted Yearly Amount Spent')\n",
    "plt.title('Scatter Plot: Actual vs. Predicted Yearly Amount Spent')\n",
    "plt.grid(True)\n",
    "plt.show()"
   ]
  },
  {
   "cell_type": "code",
   "execution_count": 62,
   "id": "23185743",
   "metadata": {},
   "outputs": [
    {
     "data": {
      "image/png": "[encoded data removed]",
      "text/plain": [
       "<Figure size 720x576 with 2 Axes>"
      ]
     },
     "metadata": {
      "needs_background": "light"
     },
     "output_type": "display_data"
    }
   ],
   "source": [
    "import matplotlib.pyplot as plt\n",
    "import numpy as np\n",
    "\n",
    "# Extract the actual Yearly Amount Spent and predicted values from finalized_data\n",
    "actual_values = Predicted_results.select(\"Yearly Amount Spent\").rdd.flatMap(lambda x: x).collect()\n",
    "predicted_values = Predicted_results.select(\"prediction\").rdd.flatMap(lambda x: x).collect()\n",
    "\n",
    "# Create an array of indices for each data point\n",
    "indices = np.arange(len(actual_values))\n",
    "\n",
    "# Create a colormap for coloring data points\n",
    "colors = plt.cm.viridis(np.linspace(0, 1, len(actual_values)))\n",
    "\n",
    "# Create a scatter plot with different colors for each data point\n",
    "plt.figure(figsize=(10, 8))\n",
    "plt.scatter(actual_values, predicted_values, c=colors, alpha=0.7)\n",
    "plt.xlabel('Actual Yearly Amount Spent')\n",
    "plt.ylabel('Predicted Yearly Amount Spent')\n",
    "plt.title('Scatter Plot: Actual vs. Predicted Yearly Amount Spent')\n",
    "plt.colorbar(label='Data Point Index')\n",
    "plt.grid(True)\n",
    "plt.show()\n"
   ]
  },
  {
   "cell_type": "markdown",
   "id": "51d14887",
   "metadata": {},
   "source": [
    "# Mean Absolute Error (MAE): "
   ]
  },
  {
   "cell_type": "code",
   "execution_count": 63,
   "id": "869e6790",
   "metadata": {},
   "outputs": [
    {
     "name": "stdout",
     "output_type": "stream",
     "text": [
      "Mean Absolute Error (MAE): 7.47528849298443\n"
     ]
    }
   ],
   "source": [
    "from pyspark.ml.evaluation import RegressionEvaluator\n",
    "\n",
    "evaluator = RegressionEvaluator(labelCol=\"Yearly Amount Spent\", predictionCol=\"prediction\", metricName=\"mae\")\n",
    "mae = evaluator.evaluate(Predicted_results)\n",
    "print(f\"Mean Absolute Error (MAE): {mae}\")"
   ]
  },
  {
   "cell_type": "code",
   "execution_count": null,
   "id": "631970be",
   "metadata": {},
   "outputs": [],
   "source": []
  },
  {
   "cell_type": "markdown",
   "id": "1d12f459",
   "metadata": {},
   "source": [
    "# Mean Squared Error (MSE):"
   ]
  },
  {
   "cell_type": "code",
   "execution_count": 64,
   "id": "60d73ddd",
   "metadata": {},
   "outputs": [
    {
     "name": "stdout",
     "output_type": "stream",
     "text": [
      "Mean Squared Error (MSE): 83.13284070636763\n"
     ]
    }
   ],
   "source": [
    "evaluator = RegressionEvaluator(labelCol=\"Yearly Amount Spent\", predictionCol=\"prediction\", metricName=\"mse\")\n",
    "mse = evaluator.evaluate(Predicted_results)\n",
    "print(f\"Mean Squared Error (MSE): {mse}\")"
   ]
  },
  {
   "cell_type": "code",
   "execution_count": null,
   "id": "885554e4",
   "metadata": {},
   "outputs": [],
   "source": []
  },
  {
   "cell_type": "markdown",
   "id": "8b12e6cd",
   "metadata": {},
   "source": [
    "# Root Mean Squared Error (RMSE): "
   ]
  },
  {
   "cell_type": "code",
   "execution_count": 65,
   "id": "e7266a35",
   "metadata": {},
   "outputs": [
    {
     "name": "stdout",
     "output_type": "stream",
     "text": [
      "Root Mean Squared Error (RMSE): 9.117721245265598\n"
     ]
    }
   ],
   "source": [
    "rmse = mse ** 0.5\n",
    "print(f\"Root Mean Squared Error (RMSE): {rmse}\")"
   ]
  },
  {
   "cell_type": "code",
   "execution_count": null,
   "id": "9e4d9e68",
   "metadata": {},
   "outputs": [],
   "source": []
  },
  {
   "cell_type": "markdown",
   "id": "35663dd9",
   "metadata": {},
   "source": [
    "# R-squared (R²) or Coefficient of Determination: "
   ]
  },
  {
   "cell_type": "code",
   "execution_count": 66,
   "id": "2c6b236e",
   "metadata": {},
   "outputs": [
    {
     "name": "stdout",
     "output_type": "stream",
     "text": [
      "R-squared (R²): 0.986708572224543\n"
     ]
    }
   ],
   "source": [
    "r2 = evaluator.evaluate(Predicted_results, {evaluator.metricName: \"r2\"})\n",
    "print(f\"R-squared (R²): {r2}\")"
   ]
  },
  {
   "cell_type": "code",
   "execution_count": null,
   "id": "50a56b50",
   "metadata": {},
   "outputs": [],
   "source": []
  }
 ],
 "metadata": {
  "kernelspec": {
   "display_name": "Python 3 (ipykernel)",
   "language": "python",
   "name": "python3"
  },
  "language_info": {
   "codemirror_mode": {
    "name": "ipython",
    "version": 3
   },
   "file_extension": ".py",
   "mimetype": "text/x-python",
   "name": "python",
   "nbconvert_exporter": "python",
   "pygments_lexer": "ipython3",
   "version": "3.9.12"
  }
 },
 "nbformat": 4,
 "nbformat_minor": 5
}
